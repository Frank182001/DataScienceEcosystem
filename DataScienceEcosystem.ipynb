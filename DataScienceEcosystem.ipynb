{
 "cells": [
  {
   "cell_type": "markdown",
   "metadata": {},
   "source": [
    "<center>\n",
    "    <img src=\"https://cf-courses-data.s3.us.cloud-object-storage.appdomain.cloud/IBMDeveloperSkillsNetwork-DS0105EN-SkillsNetwork/labs/Module2/images/SN_web_lightmode.png\" width=\"300\" alt=\"cognitiveclass.ai logo\">\n",
    "</center>\n"
   ]
  },
  {
   "cell_type": "markdown",
   "metadata": {
    "tags": []
   },
   "source": [
    "#### Add your code below following the instructions given in the course\n"
   ]
  },
  {
   "cell_type": "code",
   "execution_count": null,
   "metadata": {},
   "outputs": [],
   "source": [
    "#Ejercicio_1: Create a Jupyter Notebook\n",
    "#Ejercicio_2: \n"
   ]
  },
  {
   "cell_type": "markdown",
   "metadata": {},
   "source": [
    "# Data Science Tools and Ecosystem"
   ]
  },
  {
   "cell_type": "markdown",
   "metadata": {},
   "source": [
    "## Autor\n",
    "\n",
    "Edward Frank Villaverde Casildo\n"
   ]
  },
  {
   "cell_type": "markdown",
   "metadata": {},
   "source": [
    "In this notebook, Data Science Tools and Ecosystem are summarized"
   ]
  },
  {
   "cell_type": "markdown",
   "metadata": {},
   "source": [
    "**Goals:**\n",
    "\n",
    "- Important languages for data science\n",
    "- Libraries commonly used by data scientists\n",
    "- Create a table with data science tools\n",
    "- Provide examples of arithmetic expressions in Python\n",
    "- Convert time units, such as minutes to hours"
   ]
  },
  {
   "cell_type": "markdown",
   "metadata": {},
   "source": [
    "Some of the most popular languages that Data Scientists use are:\n",
    "- Python\n",
    "- R\n",
    "- SQL\n",
    "- Julia\n",
    "- Java"
   ]
  },
  {
   "cell_type": "markdown",
   "metadata": {},
   "source": [
    "Some of the commonly used libraries used by Data Scientists include:\n",
    "- Numpy\n",
    "- Pandas\n",
    "- Matplotlib\n",
    "- TensorFlow\n",
    "- Keras\n",
    "- PyTorch\n",
    "- Seaborn"
   ]
  },
  {
   "cell_type": "markdown",
   "metadata": {},
   "source": [
    "| Tool of Data Science |\n",
    "|----------------------------------|\n",
    "| Jupyter Notebook                 |\n",
    "| RStudio                          |\n",
    "| Apache Zeppelin                  |\n"
   ]
  },
  {
   "cell_type": "markdown",
   "metadata": {},
   "source": [
    "### Examples of evaluating arithmetic expressions in Python"
   ]
  },
  {
   "cell_type": "code",
   "execution_count": null,
   "metadata": {},
   "outputs": [],
   "source": [
    "# Suma\n",
    "suma = 33 + 54\n",
    "print(f\"Suma: 33 + 54 = {suma}\")\n",
    "\n",
    "# Resta\n",
    "resta = 100 - 40\n",
    "print(f\"Resta: 100 - 40 = {resta}\")\n",
    "\n",
    "# Multiplicación\n",
    "multiplicacion = 7 * 6\n",
    "print(f\"Multiplicación: 7 * 6 = {multiplicacion}\")\n",
    "\n",
    "# División\n",
    "division = 20 / 4\n",
    "print(f\"División: 20 / 4 = {division}\")"
   ]
  },
  {
   "cell_type": "code",
   "execution_count": 3,
   "metadata": {
    "tags": []
   },
   "outputs": [
    {
     "name": "stdout",
     "output_type": "stream",
     "text": [
      "El resultado de (3 * 4) + 5 es: 17\n"
     ]
    }
   ],
   "source": [
    "# Esta es una expresi´n aritmetica, en cal cual se está multiplicando 3 y 4, luego se  procede a sumar 5.\n",
    "resultado = (3 * 4) + 5\n",
    "print(f\"El resultado de (3 * 4) + 5 es: {resultado}\")"
   ]
  },
  {
   "cell_type": "code",
   "execution_count": 2,
   "metadata": {
    "tags": []
   },
   "outputs": [
    {
     "name": "stdout",
     "output_type": "stream",
     "text": [
      "200 minutos son 3.3333333333333335 horas\n"
     ]
    }
   ],
   "source": [
    "# Tenemos 200 minutos, para transformar a hora, debemos dividir entre 60, ya que 60min=1hora\n",
    "minutos = 200\n",
    "horas = minutos / 60\n",
    "print(f\"{minutos} minutos son {horas} horas\")"
   ]
  },
  {
   "cell_type": "code",
   "execution_count": null,
   "metadata": {},
   "outputs": [],
   "source": []
  }
 ],
 "metadata": {
  "kernelspec": {
   "display_name": "Python",
   "language": "python",
   "name": "conda-env-python-py"
  },
  "language_info": {
   "codemirror_mode": {
    "name": "ipython",
    "version": 3
   },
   "file_extension": ".py",
   "mimetype": "text/x-python",
   "name": "python",
   "nbconvert_exporter": "python",
   "pygments_lexer": "ipython3",
   "version": "3.7.12"
  }
 },
 "nbformat": 4,
 "nbformat_minor": 4
}
